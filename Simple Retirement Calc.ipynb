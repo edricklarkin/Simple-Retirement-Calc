{
 "cells": [
  {
   "cell_type": "code",
   "execution_count": 1,
   "id": "f906e301",
   "metadata": {},
   "outputs": [],
   "source": [
    "%matplotlib widget"
   ]
  },
  {
   "cell_type": "code",
   "execution_count": 2,
   "id": "b063562d",
   "metadata": {},
   "outputs": [],
   "source": [
    "from ipywidgets import interact, interactive\n",
    "import numpy as np\n",
    "from scipy import integrate\n",
    "from matplotlib import pyplot as plt\n",
    "from matplotlib import ticker\n",
    "import ipywidgets as widgets"
   ]
  },
  {
   "cell_type": "code",
   "execution_count": 3,
   "id": "03f212e0",
   "metadata": {},
   "outputs": [],
   "source": [
    "def retire_calc(mc_rounds, c_age, r_age, death, starting_assets, starting_budget, mkt_mean, mkt_std, inflat):\n",
    "    \n",
    "    #lists for storing the results of the simulation\n",
    "    ending_ages = []\n",
    "    results = []\n",
    "    markets = []\n",
    "    results_comb = []\n",
    "    \n",
    "    #number of year for each scenario\n",
    "    years = death - c_age\n",
    "    \n",
    "    #constant withdrawal rate, adjusted for inflation\n",
    "    withdraws = [round(starting_budget * (1 + inflat)** i) for i in range(0, years + 1)]\n",
    "\n",
    "    #Outer loop for running number or simulation rounds\n",
    "    for simulation in range(0, mc_rounds):\n",
    "    \n",
    "        #create a blank list of ending year asset values with starting asset value\n",
    "        assets = [0] * years\n",
    "        assets.insert(0,starting_assets)\n",
    "\n",
    "    \n",
    "        random_mkt = np.random.normal(mkt_mean, mkt_std, years).tolist()\n",
    "    \n",
    "        #Inner loop through market returns until years reached or assets < 0\n",
    "        i = 1\n",
    "    \n",
    "        #model assumes withdrawal done at the beginning of the year, prior to earnings/losses\n",
    "        while assets[i - 1] > 0 and i <= years:\n",
    "            \n",
    "            #no withdrawals before retirement age\n",
    "            if i + c_age < r_age:\n",
    "                assets[i] = round(assets[i-1] * (1 + random_mkt[i-1]))\n",
    "            \n",
    "            #at retirement age start withdrawals at the beginning of each year\n",
    "            if i + c_age >= r_age:\n",
    "                assets[i] = round((assets[i-1] - withdraws[i]) * (1 + random_mkt[i-1])) \n",
    "            \n",
    "            i += 1\n",
    "    \n",
    "        ending_ages.append(c_age + i - 1)\n",
    "        results.append(assets)\n",
    "        markets.append(random_mkt)\n",
    "        results_comb.append((simulation, c_age + i - 1, assets, random_mkt))\n",
    "        \n",
    "    line_chart(results, c_age, death)\n",
    "           \n",
    "    return results_comb\n",
    "\n",
    "def line_chart(results, c_age, death):\n",
    "    \n",
    "    plt.close()\n",
    "    fig, ax = plt.subplots()\n",
    "    ax.plot(range(c_age, death + 1),np.percentile(results, 75, axis=0), label='75% Above Average Market')\n",
    "    ax.plot(range(c_age, death + 1),np.percentile(results, 50, axis=0), label='50% Average Market')\n",
    "    ax.plot(range(c_age, death + 1),np.percentile(results, 25, axis=0), label='25% Below Average Market')\n",
    "    plt.legend()\n",
    "    ax.set_title('Asset Value by Age and Market Performance')\n",
    "    ax.set_xlabel('Age')\n",
    "    ax.set_ylabel('Asset Value')\n",
    "    ax.yaxis.set_major_formatter(ticker.StrMethodFormatter(\"${x:,.0f}\"))\n",
    "    \n",
    "    plt.show()\n",
    "\n",
    "def pie_chart(ending_ages):\n",
    "    \n",
    "    "
   ]
  },
  {
   "cell_type": "code",
   "execution_count": 4,
   "id": "5128fc8e",
   "metadata": {
    "scrolled": true
   },
   "outputs": [
    {
     "data": {
      "application/vnd.jupyter.widget-view+json": {
       "model_id": "0e115bd546c247509870f0e9f66fbe17",
       "version_major": 2,
       "version_minor": 0
      },
      "text/plain": [
       "interactive(children=(IntSlider(value=1000, description='Simulations:', max=10000, min=100, step=100, tooltip=…"
      ]
     },
     "metadata": {},
     "output_type": "display_data"
    }
   ],
   "source": [
    "#format user selection options\n",
    "sim_slider = widgets.IntSlider(value=1000,min=100,max=10_000,step=100,description='Simulations:',\n",
    "                               tooltip='Number of simulations to run')\n",
    "\n",
    "c_age_slider = widgets.IntSlider(value=45,min=0,max=80,step=1,description='Current Age:',tooltip='Current age')\n",
    "\n",
    "r_age_slider = widgets.IntSlider(value=65,min=0,max=80,step=1,description='Retire Age:',tooltip='Retirement Age')\n",
    "\n",
    "death_slider = widgets.IntSlider(value=90,min=81,max=120,step=1,description='Longevity:',tooltip='Expected longevity')\n",
    "\n",
    "asset_slider = widgets.IntSlider(value=500_000,min=100_000,max=10_000_000,step=10_000,description='Assets:',\n",
    "                                 tooltip='Starting assets',readout_format='$0,.0f')\n",
    "\n",
    "budget_slider = widgets.IntSlider(value=50_000,min=10_000,max=250_000,step=1000,description='Budget:',\n",
    "                                  tooltip='Annual Budget (current dollars)',readout_format='$0,.0f')\n",
    "\n",
    "mkt_slider = widgets.FloatSlider(value=0.115,min=0,max=1,step=0.001,description='Avg Return:',\n",
    "                                 tooltip='Average annual market return',readout_format='.1%')\n",
    "\n",
    "std_slider = widgets.FloatSlider(value=0.195,min=0,max=1,step=0.001,description='Market Std:',\n",
    "                                 tooltip='Standard deviation of market returns',readout_format='.1%')\n",
    "\n",
    "inf_slider = widgets.FloatSlider(value=0.03,min=0,max=1,step=0.001,description='Inflation:',\n",
    "                                 tooltip='Average annual inflation',readout_format='.1%')\n",
    "#call retire calc function\n",
    "w = interactive(retire_calc, mc_rounds=sim_slider, c_age=c_age_slider, r_age=r_age_slider, death=death_slider,\n",
    "                starting_assets=asset_slider, starting_budget=budget_slider, mkt_mean=mkt_slider, mkt_std=std_slider,\n",
    "                inflat=inf_slider)\n",
    "\n",
    "#display simulation results\n",
    "display(w)"
   ]
  }
 ],
 "metadata": {
  "kernelspec": {
   "display_name": "Python 3 (ipykernel)",
   "language": "python",
   "name": "python3"
  },
  "language_info": {
   "codemirror_mode": {
    "name": "ipython",
    "version": 3
   },
   "file_extension": ".py",
   "mimetype": "text/x-python",
   "name": "python",
   "nbconvert_exporter": "python",
   "pygments_lexer": "ipython3",
   "version": "3.11.5"
  }
 },
 "nbformat": 4,
 "nbformat_minor": 5
}
